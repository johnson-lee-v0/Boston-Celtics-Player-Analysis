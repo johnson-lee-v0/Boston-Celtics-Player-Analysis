{
 "cells": [
  {
   "cell_type": "code",
   "execution_count": 3,
   "id": "ea825ba9",
   "metadata": {},
   "outputs": [],
   "source": [
    "# Importing libraries\n",
    "import quandl\n",
    "import pandas as pd\n",
    "import re\n",
    "import numpy as np\n",
    "import matplotlib.pyplot as plt\n",
    "import geopandas as gpd\n",
    "import seaborn as sns\n",
    "from sklearn.preprocessing import MinMaxScaler\n",
    "from tqdm import tqdm\n",
    "import sys\n",
    "import time\n",
    "from tqdm import tqdm\n",
    "from sklearn.neighbors import KNeighborsClassifier\n",
    "from sklearn.metrics import accuracy_score, confusion_matrix, roc_auc_score\n",
    "from sklearn.model_selection import train_test_split, GridSearchCV\n",
    "\n",
    "# Importing Data\n",
    "JT_JB = pd.read_csv(r\"C:\\Users\\richa\\Downloads\\JT_JB.csv\")"
   ]
  },
  {
   "cell_type": "markdown",
   "id": "31ed4a72",
   "metadata": {},
   "source": [
    "## KNN: Team Metrics"
   ]
  },
  {
   "cell_type": "code",
   "execution_count": 4,
   "id": "baf971fd",
   "metadata": {},
   "outputs": [],
   "source": [
    "# Dataframe creation\n",
    "last_rows_knn = JT_JB.groupby(['Year','Game', 'Q']).last().reset_index()\n",
    "last_rows_knn = last_rows_knn[last_rows_knn['Q']=='Q3']\n",
    "\n",
    "knn_df = last_rows_knn[['Result', 'Year', 'OPP_FG', 'BOS_FG']].copy()\n",
    "knn_df['Result'] = np.where(knn_df['Result'] == 'BOS', 1, 0)"
   ]
  },
  {
   "cell_type": "code",
   "execution_count": 5,
   "id": "9a21d5a2",
   "metadata": {},
   "outputs": [],
   "source": [
    "# Split\n",
    "KNN_train = knn_df[knn_df['Year']!= 2023]\n",
    "KNN_test = knn_df[knn_df['Year']== 2023]\n",
    "\n",
    "# Drop\n",
    "X_train_knn = KNN_train.drop(['Result', 'Year'], axis=1)\n",
    "y_train_knn = KNN_train['Result']\n",
    "X_test_knn = KNN_test.drop(['Result', 'Year'], axis=1)\n",
    "y_test_knn = KNN_test['Result']"
   ]
  },
  {
   "cell_type": "code",
   "execution_count": 6,
   "id": "d2ffb67a",
   "metadata": {},
   "outputs": [],
   "source": [
    "# Normalize Predictors\n",
    "scaler = MinMaxScaler()\n",
    "X_train_knn_norm = pd.DataFrame(scaler.fit_transform(X_train_knn),\n",
    "                        columns = X_train_knn.columns\n",
    "                        )"
   ]
  },
  {
   "cell_type": "code",
   "execution_count": 7,
   "id": "cca6f46d",
   "metadata": {},
   "outputs": [],
   "source": [
    "# Grid\n",
    "param_grid = {\n",
    "    'n_neighbors': [12, 7, 15],\n",
    "    'weights': ['uniform', 'distance'],\n",
    "    'metric': ['manhattan', 'euclidean']\n",
    "}\n",
    "\n",
    "knn_model = KNeighborsClassifier()"
   ]
  },
  {
   "cell_type": "code",
   "execution_count": 8,
   "id": "f23e1de5",
   "metadata": {},
   "outputs": [
    {
     "name": "stderr",
     "output_type": "stream",
     "text": [
      "100%|████████████████████████████████████████████████████████████████████████████████████| 3/3 [00:06<00:00,  2.06s/it]"
     ]
    },
    {
     "name": "stdout",
     "output_type": "stream",
     "text": [
      "Best parameters found during grid search:\n",
      "{'metric': 'manhattan', 'n_neighbors': 12, 'weights': 'uniform'}\n"
     ]
    },
    {
     "name": "stderr",
     "output_type": "stream",
     "text": [
      "\n"
     ]
    }
   ],
   "source": [
    "# Grid search\n",
    "grid_search = GridSearchCV(estimator=knn_model, param_grid=param_grid, cv=5, n_jobs=-1)\n",
    "\n",
    "\n",
    "for params in tqdm(param_grid):\n",
    "    grid_search.fit(X_train_knn_norm, y_train_knn)\n",
    "\n",
    "print(\"Best parameters found during grid search:\")\n",
    "print(grid_search.best_params_)"
   ]
  },
  {
   "cell_type": "markdown",
   "id": "f263cdcf",
   "metadata": {},
   "source": [
    "### Testing: Team Metrics"
   ]
  },
  {
   "cell_type": "code",
   "execution_count": 9,
   "id": "f67605ee",
   "metadata": {},
   "outputs": [
    {
     "name": "stdout",
     "output_type": "stream",
     "text": [
      "Accuracy: 0.7088607594936709\n",
      "Confusion Matrix:\n",
      " [[18  6]\n",
      " [17 38]]\n",
      "ROC AUC Score: 0.7204545454545455\n"
     ]
    },
    {
     "name": "stderr",
     "output_type": "stream",
     "text": [
      "C:\\Users\\richa\\anaconda3\\lib\\site-packages\\sklearn\\neighbors\\_classification.py:228: FutureWarning: Unlike other reduction functions (e.g. `skew`, `kurtosis`), the default behavior of `mode` typically preserves the axis it acts along. In SciPy 1.11.0, this behavior will change: the default value of `keepdims` will become False, the `axis` over which the statistic is taken will be eliminated, and the value None will no longer be accepted. Set `keepdims` to True or False to avoid this warning.\n",
      "  mode, _ = stats.mode(_y[neigh_ind, k], axis=1)\n"
     ]
    }
   ],
   "source": [
    "# Normalize the Testing set\n",
    "X_test_knn_norm = pd.DataFrame(scaler.transform(X_test_knn),\n",
    "                        columns = X_test_knn.columns\n",
    "                        )\n",
    "\n",
    "# Predict\n",
    "best_model = grid_search.best_estimator_\n",
    "y_pred_knn = best_model.predict(X_test_knn_norm)\n",
    "\n",
    "# Evaluation\n",
    "accuracy = accuracy_score(y_test_knn, y_pred_knn)\n",
    "print(\"Accuracy:\", accuracy)\n",
    "\n",
    "conf_matrix = confusion_matrix(y_test_knn, y_pred_knn)\n",
    "print(\"Confusion Matrix:\\n\", conf_matrix)\n",
    "\n",
    "auc_score = roc_auc_score(y_test_knn, y_pred_knn)\n",
    "print(\"ROC AUC Score:\", auc_score)"
   ]
  },
  {
   "cell_type": "markdown",
   "id": "6460e58e",
   "metadata": {},
   "source": [
    "## KNN: Player Metrics"
   ]
  },
  {
   "cell_type": "code",
   "execution_count": 10,
   "id": "227ddcea",
   "metadata": {},
   "outputs": [],
   "source": [
    "# Dataframe creation\n",
    "last_rows_knn = JT_JB.groupby(['Year','Game', 'Q']).last().reset_index()\n",
    "last_rows_knn = last_rows_knn[last_rows_knn['Q']=='Q3']\n",
    "\n",
    "knn_df = last_rows_knn[['Result', 'Year', 'JT_FG', 'JB_FG']].copy()\n",
    "knn_df['Result'] = np.where(knn_df['Result'] == 'BOS', 1, 0)"
   ]
  },
  {
   "cell_type": "code",
   "execution_count": 11,
   "id": "335655c7",
   "metadata": {},
   "outputs": [],
   "source": [
    "# Split\n",
    "KNN_train = knn_df[knn_df['Year']!= 2023]\n",
    "KNN_test = knn_df[knn_df['Year']== 2023]\n",
    "\n",
    "# Drop target\n",
    "X_train_knn = KNN_train.drop(['Result', 'Year'], axis=1)\n",
    "y_train_knn = KNN_train['Result']\n",
    "X_test_knn = KNN_test.drop(['Result', 'Year'], axis=1)\n",
    "y_test_knn = KNN_test['Result']"
   ]
  },
  {
   "cell_type": "code",
   "execution_count": 12,
   "id": "b01d4862",
   "metadata": {},
   "outputs": [],
   "source": [
    "# Normalize Predictors\n",
    "scaler = MinMaxScaler()\n",
    "X_train_knn_norm = pd.DataFrame(scaler.fit_transform(X_train_knn),\n",
    "                        columns = X_train_knn.columns\n",
    "                        )"
   ]
  },
  {
   "cell_type": "code",
   "execution_count": 13,
   "id": "f7636066",
   "metadata": {},
   "outputs": [],
   "source": [
    "# Grid\n",
    "param_grid = {\n",
    "    'n_neighbors': [5, 7, 9],\n",
    "    'weights': ['uniform', 'distance'],\n",
    "    'metric': ['manhattan', 'euclidean']\n",
    "}\n",
    "\n",
    "# Model\n",
    "knn_model = KNeighborsClassifier()"
   ]
  },
  {
   "cell_type": "code",
   "execution_count": 14,
   "id": "6afedb67",
   "metadata": {},
   "outputs": [
    {
     "name": "stderr",
     "output_type": "stream",
     "text": [
      "100%|████████████████████████████████████████████████████████████████████████████████████| 3/3 [00:02<00:00,  1.35it/s]"
     ]
    },
    {
     "name": "stdout",
     "output_type": "stream",
     "text": [
      "Best parameters found during grid search:\n",
      "{'metric': 'manhattan', 'n_neighbors': 9, 'weights': 'uniform'}\n"
     ]
    },
    {
     "name": "stderr",
     "output_type": "stream",
     "text": [
      "\n"
     ]
    }
   ],
   "source": [
    "# Grid search\n",
    "grid_search = GridSearchCV(estimator=knn_model, param_grid=param_grid, cv=5, n_jobs=-1)\n",
    "\n",
    "\n",
    "for params in tqdm(param_grid):\n",
    "    grid_search.fit(X_train_knn_norm, y_train_knn)\n",
    "\n",
    "print(\"Best parameters found during grid search:\")\n",
    "print(grid_search.best_params_)"
   ]
  },
  {
   "cell_type": "markdown",
   "id": "4ee2b6c0",
   "metadata": {},
   "source": [
    "### Testing: Player Metrics"
   ]
  },
  {
   "cell_type": "code",
   "execution_count": 15,
   "id": "d6750ffc",
   "metadata": {},
   "outputs": [
    {
     "name": "stdout",
     "output_type": "stream",
     "text": [
      "Accuracy: 0.6962025316455697\n",
      "Confusion Matrix:\n",
      " [[ 0 24]\n",
      " [ 0 55]]\n",
      "ROC AUC Score: 0.5\n"
     ]
    },
    {
     "name": "stderr",
     "output_type": "stream",
     "text": [
      "C:\\Users\\richa\\anaconda3\\lib\\site-packages\\sklearn\\neighbors\\_classification.py:228: FutureWarning: Unlike other reduction functions (e.g. `skew`, `kurtosis`), the default behavior of `mode` typically preserves the axis it acts along. In SciPy 1.11.0, this behavior will change: the default value of `keepdims` will become False, the `axis` over which the statistic is taken will be eliminated, and the value None will no longer be accepted. Set `keepdims` to True or False to avoid this warning.\n",
      "  mode, _ = stats.mode(_y[neigh_ind, k], axis=1)\n"
     ]
    }
   ],
   "source": [
    "# Normalize the Testing set\n",
    "X_test_knn_norm = pd.DataFrame(scaler.transform(X_test_knn),\n",
    "                        columns = X_test_knn.columns\n",
    "                        )\n",
    "\n",
    "# Predict\n",
    "best_model = grid_search.best_estimator_\n",
    "y_pred_knn = best_model.predict(X_test_knn_norm)\n",
    "\n",
    "# Evaluation\n",
    "accuracy = accuracy_score(y_test_knn, y_pred_knn)\n",
    "print(\"Accuracy:\", accuracy)\n",
    "\n",
    "conf_matrix = confusion_matrix(y_test_knn, y_pred_knn)\n",
    "print(\"Confusion Matrix:\\n\", conf_matrix)\n",
    "\n",
    "auc_score = roc_auc_score(y_test_knn, y_pred_knn)\n",
    "print(\"ROC AUC Score:\", auc_score)"
   ]
  }
 ],
 "metadata": {
  "kernelspec": {
   "display_name": "Python 3 (ipykernel)",
   "language": "python",
   "name": "python3"
  },
  "language_info": {
   "codemirror_mode": {
    "name": "ipython",
    "version": 3
   },
   "file_extension": ".py",
   "mimetype": "text/x-python",
   "name": "python",
   "nbconvert_exporter": "python",
   "pygments_lexer": "ipython3",
   "version": "3.9.13"
  }
 },
 "nbformat": 4,
 "nbformat_minor": 5
}
