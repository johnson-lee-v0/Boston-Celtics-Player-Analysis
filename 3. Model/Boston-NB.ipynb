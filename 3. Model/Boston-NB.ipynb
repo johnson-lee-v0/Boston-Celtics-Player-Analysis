{
 "cells": [
  {
   "cell_type": "code",
   "execution_count": 1,
   "id": "7a77080b",
   "metadata": {},
   "outputs": [],
   "source": [
    "# Importing Libraries\n",
    "from sklearn.naive_bayes import GaussianNB\n",
    "from sklearn.metrics import accuracy_score, confusion_matrix, roc_auc_score\n",
    "from sklearn.model_selection import train_test_split\n",
    "import quandl\n",
    "import pandas as pd\n",
    "import re\n",
    "import numpy as np\n",
    "import tqdm\n",
    "import matplotlib.pyplot as plt\n",
    "import geopandas as gpd\n",
    "import seaborn as sns\n",
    "\n",
    "# Importing Data\n",
    "JT_JB = pd.read_csv(r\"C:\\Users\\richa\\Downloads\\JT_JB.csv\")"
   ]
  },
  {
   "cell_type": "markdown",
   "id": "5da6b76a",
   "metadata": {},
   "source": [
    "## Naive Bayes: Team Metrics"
   ]
  },
  {
   "cell_type": "code",
   "execution_count": 4,
   "id": "d791be08",
   "metadata": {},
   "outputs": [],
   "source": [
    "# New Dataframe\n",
    "last_rows = JT_JB.groupby(['Year','Game', 'Q']).last().reset_index()\n",
    "last_rows = last_rows[last_rows['Q']=='Q3']\n",
    "\n",
    "df_nb = last_rows[['Result', 'Year', 'BOS_FG', 'OPP_FG']].copy()\n",
    "df_nb['Result'] = np.where(df_nb['Result'] == 'BOS', 1, 0)"
   ]
  },
  {
   "cell_type": "code",
   "execution_count": 5,
   "id": "ad9c75ea",
   "metadata": {},
   "outputs": [],
   "source": [
    "# Split\n",
    "df_nb_train = df_nb[df_nb['Year'] != 2023]\n",
    "df_nb_test =df_nb[df_nb['Year'] == 2023]\n",
    "\n",
    "\n",
    "# Drop\n",
    "X_train = df_nb_train.drop(['Result', 'Year'], axis=1)\n",
    "y_train = df_nb_train['Result']\n",
    "X_test = df_nb_test.drop(['Result', 'Year'], axis=1)\n",
    "y_test = df_nb_test['Result']"
   ]
  },
  {
   "cell_type": "code",
   "execution_count": 6,
   "id": "bd984dfa",
   "metadata": {},
   "outputs": [
    {
     "data": {
      "text/plain": [
       "GaussianNB()"
      ]
     },
     "execution_count": 6,
     "metadata": {},
     "output_type": "execute_result"
    }
   ],
   "source": [
    "# model\n",
    "model = GaussianNB()\n",
    "\n",
    "# training\n",
    "model.fit(X_train, y_train)"
   ]
  },
  {
   "cell_type": "markdown",
   "id": "07b5e8fc",
   "metadata": {},
   "source": [
    "### Testing: Team Metrics"
   ]
  },
  {
   "cell_type": "code",
   "execution_count": 7,
   "id": "4c66d653",
   "metadata": {},
   "outputs": [
    {
     "name": "stdout",
     "output_type": "stream",
     "text": [
      "Accuracy: 0.759493670886076\n",
      "Confusion Matrix:\n",
      " [[18  6]\n",
      " [13 42]]\n",
      "ROC AUC Score: 0.7568181818181818\n"
     ]
    }
   ],
   "source": [
    "# test\n",
    "y_pred = model.predict(X_test)\n",
    "\n",
    "# eval\n",
    "accuracy = accuracy_score(y_test, y_pred)\n",
    "print(\"Accuracy:\", accuracy)\n",
    "\n",
    "conf_matrix = confusion_matrix(y_test, y_pred)\n",
    "print(\"Confusion Matrix:\\n\", conf_matrix)\n",
    "\n",
    "auc_score = roc_auc_score(y_test, y_pred)\n",
    "print(\"ROC AUC Score:\", auc_score)"
   ]
  },
  {
   "cell_type": "markdown",
   "id": "b0837501",
   "metadata": {},
   "source": [
    "## Naive Bayes: Player Metrics"
   ]
  },
  {
   "cell_type": "code",
   "execution_count": 3,
   "id": "3f85b2dd",
   "metadata": {},
   "outputs": [
    {
     "name": "stdout",
     "output_type": "stream",
     "text": [
      "Accuracy: 0.43037974683544306\n",
      "Confusion Matrix:\n",
      " [[22  2]\n",
      " [43 12]]\n",
      "ROC AUC Score: 0.5674242424242424\n"
     ]
    }
   ],
   "source": [
    "# Dataframe\n",
    "last_rows_JT_JB = JT_JB.groupby(['Year','Game', 'Q']).last().reset_index()\n",
    "last_rows_JT_JB = last_rows_JT_JB[last_rows_JT_JB['Q']=='Q3']\n",
    "\n",
    "jtjb_df_nb = last_rows_JT_JB[['Result', 'Year', 'JT_FG', 'JB_FG']].copy()\n",
    "jtjb_df_nb['Result'] = np.where(jtjb_df_nb['Result'] == 'BOS', 1, 0)"
   ]
  },
  {
   "cell_type": "code",
   "execution_count": 8,
   "id": "afbf2480",
   "metadata": {},
   "outputs": [],
   "source": [
    "# Split\n",
    "jtjb_nb_train = jtjb_df_nb[df_nb['Year'] != 2023]\n",
    "jtjb_nb_test = jtjb_df_nb[df_nb['Year'] == 2023]\n",
    "\n",
    "\n",
    "# Drop\n",
    "X_train_jtjb = jtjb_nb_train.drop(['Result', 'Year'], axis=1)\n",
    "y_train_jtjb = jtjb_nb_train['Result']\n",
    "X_test_jtjb = jtjb_nb_test.drop(['Result', 'Year'], axis=1)\n",
    "y_test_jtjb = jtjb_nb_test['Result']"
   ]
  },
  {
   "cell_type": "code",
   "execution_count": 9,
   "id": "7d9cda92",
   "metadata": {},
   "outputs": [
    {
     "data": {
      "text/plain": [
       "GaussianNB()"
      ]
     },
     "execution_count": 9,
     "metadata": {},
     "output_type": "execute_result"
    }
   ],
   "source": [
    "# Model\n",
    "model = GaussianNB()\n",
    "\n",
    "# Training\n",
    "model.fit(X_train_jtjb, y_train_jtjb)\n"
   ]
  },
  {
   "cell_type": "markdown",
   "id": "49e52f32",
   "metadata": {},
   "source": [
    "### Testing: Player Metrics"
   ]
  },
  {
   "cell_type": "code",
   "execution_count": 10,
   "id": "5141de1b",
   "metadata": {},
   "outputs": [
    {
     "name": "stdout",
     "output_type": "stream",
     "text": [
      "Accuracy: 0.43037974683544306\n",
      "Confusion Matrix:\n",
      " [[22  2]\n",
      " [43 12]]\n",
      "ROC AUC Score: 0.5674242424242424\n"
     ]
    }
   ],
   "source": [
    "# test\n",
    "y_pred = model.predict(X_test_jtjb)\n",
    "\n",
    "# eval\n",
    "accuracy = accuracy_score(y_test_jtjb, y_pred)\n",
    "print(\"Accuracy:\", accuracy)\n",
    "\n",
    "conf_matrix = confusion_matrix(y_test_jtjb, y_pred)\n",
    "print(\"Confusion Matrix:\\n\", conf_matrix)\n",
    "\n",
    "auc_score = roc_auc_score(y_test_jtjb, y_pred)\n",
    "print(\"ROC AUC Score:\", auc_score)"
   ]
  }
 ],
 "metadata": {
  "kernelspec": {
   "display_name": "Python 3 (ipykernel)",
   "language": "python",
   "name": "python3"
  },
  "language_info": {
   "codemirror_mode": {
    "name": "ipython",
    "version": 3
   },
   "file_extension": ".py",
   "mimetype": "text/x-python",
   "name": "python",
   "nbconvert_exporter": "python",
   "pygments_lexer": "ipython3",
   "version": "3.9.13"
  }
 },
 "nbformat": 4,
 "nbformat_minor": 5
}
