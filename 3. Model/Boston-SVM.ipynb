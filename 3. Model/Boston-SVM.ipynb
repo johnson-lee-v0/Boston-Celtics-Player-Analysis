{
 "cells": [
  {
   "cell_type": "code",
   "execution_count": 27,
   "id": "674f0b0f",
   "metadata": {},
   "outputs": [],
   "source": [
    "# Importing Libraries\n",
    "import quandl\n",
    "import pandas as pd\n",
    "import re\n",
    "import numpy as np\n",
    "import matplotlib.pyplot as plt\n",
    "import geopandas as gpd\n",
    "import seaborn as sns\n",
    "from sklearn.preprocessing import MinMaxScaler\n",
    "from sklearn.svm import SVC\n",
    "import sys\n",
    "import time\n",
    "from tqdm import tqdm\n",
    "from sklearn.metrics import accuracy_score, confusion_matrix, roc_auc_score\n",
    "from sklearn.model_selection import train_test_split, GridSearchCV\n",
    "\n",
    "\n",
    "# Importing Data\n",
    "JT_JB = pd.read_csv(r\"C:\\Users\\richa\\Downloads\\JT_JB.csv\")"
   ]
  },
  {
   "cell_type": "markdown",
   "id": "17a38426",
   "metadata": {},
   "source": [
    "## SVM: Team Metrics"
   ]
  },
  {
   "cell_type": "code",
   "execution_count": 9,
   "id": "734c9e8c",
   "metadata": {},
   "outputs": [],
   "source": [
    "# Dataframe\n",
    "last_rows_svm = JT_JB.groupby(['Year','Game', 'Q']).last().reset_index()\n",
    "last_rows_svm = last_rows_svm[last_rows_svm['Q']=='Q3']\n",
    "\n",
    "svm_df = last_rows_svm[['Result', 'Year', 'OPP_FG', 'BOS_ST', 'OPP_AST', 'BOS_FG']].copy()\n",
    "svm_df['Result'] = np.where(svm_df['Result'] == 'BOS', 1, 0)\n"
   ]
  },
  {
   "cell_type": "code",
   "execution_count": 10,
   "id": "efebd486",
   "metadata": {},
   "outputs": [],
   "source": [
    "# Split\n",
    "SVM_train = svm_df[svm_df['Year']!= 2023]\n",
    "SVM_test = svm_df[svm_df['Year']== 2023]\n",
    "\n",
    "# Drop\n",
    "X_train_svm = SVM_train.drop(['Result', 'Year'], axis=1)\n",
    "y_train_svm = SVM_train['Result']\n",
    "X_test_svm = SVM_test.drop(['Result', 'Year'], axis=1)\n",
    "y_test_svm = SVM_test['Result']"
   ]
  },
  {
   "cell_type": "code",
   "execution_count": 15,
   "id": "0d8402db",
   "metadata": {},
   "outputs": [],
   "source": [
    "# Normalize Predictors\n",
    "scaler = MinMaxScaler()\n",
    "X_train_svm_norm = pd.DataFrame(scaler.fit_transform(X_train_svm),\n",
    "                        columns = X_train_svm.columns\n",
    "                        )"
   ]
  },
  {
   "cell_type": "code",
   "execution_count": 28,
   "id": "e87e4bdd",
   "metadata": {},
   "outputs": [
    {
     "name": "stderr",
     "output_type": "stream",
     "text": [
      "100%|████████████████████████████████████████████████████████████████████████████████████| 3/3 [00:00<00:00, 25.38it/s]"
     ]
    },
    {
     "name": "stdout",
     "output_type": "stream",
     "text": [
      "Best parameters found by during grid search:\n",
      "{'C': 0.85, 'gamma': 'scale', 'kernel': 'rbf'}\n"
     ]
    },
    {
     "name": "stderr",
     "output_type": "stream",
     "text": [
      "\n"
     ]
    }
   ],
   "source": [
    "# Grid\n",
    "param_grid = {\n",
    "    'C': [0.85],\n",
    "    'kernel': ['rbf'],\n",
    "    'gamma': ['scale']\n",
    "}\n",
    "\n",
    "# Model\n",
    "svm_model = SVC()\n",
    "\n",
    "#Grid search\n",
    "grid_search = GridSearchCV(estimator=svm_model, param_grid=param_grid, cv=5, n_jobs=-1)\n",
    "\n",
    "for params in tqdm(param_grid):\n",
    "    grid_search.fit(X_train_svm_norm, y_train_svm)\n",
    "\n",
    "print(\"Best parameters found by during grid search:\")\n",
    "print(grid_search.best_params_)"
   ]
  },
  {
   "cell_type": "markdown",
   "id": "9e248d26",
   "metadata": {},
   "source": [
    "### Testing: Team Metrics"
   ]
  },
  {
   "cell_type": "code",
   "execution_count": 21,
   "id": "4560b5c7",
   "metadata": {},
   "outputs": [
    {
     "name": "stdout",
     "output_type": "stream",
     "text": [
      "Accuracy: 0.7848101265822784\n",
      "Confusion Matrix:\n",
      " [[18  6]\n",
      " [11 44]]\n",
      "ROC AUC Score: 0.775\n"
     ]
    }
   ],
   "source": [
    "# best paramaters training\n",
    "best_model = SVC(**grid_search.best_params_)\n",
    "best_model.fit(X_train_svm_norm, y_train_svm)\n",
    "\n",
    "# Normalize testing\n",
    "X_test_svm_norm = pd.DataFrame(\n",
    "    scaler.transform(X_test_svm),\n",
    "    columns = X_test_svm.columns)\n",
    "\n",
    "# Predict\n",
    "y_pred_svm = best_model.predict(X_test_svm_norm)\n",
    "\n",
    "# Evaluation\n",
    "accuracy = accuracy_score(y_test_svm, y_pred_svm)\n",
    "print(\"Accuracy:\", accuracy)\n",
    "\n",
    "conf_matrix = confusion_matrix(y_test_svm, y_pred_svm)\n",
    "print(\"Confusion Matrix:\\n\", conf_matrix)\n",
    "\n",
    "auc_score = roc_auc_score(y_test_svm, y_pred_svm)\n",
    "print(\"ROC AUC Score:\", auc_score)"
   ]
  },
  {
   "cell_type": "markdown",
   "id": "967c2b4f",
   "metadata": {},
   "source": [
    "## SVM: Player Metrics"
   ]
  },
  {
   "cell_type": "code",
   "execution_count": 22,
   "id": "34008333",
   "metadata": {},
   "outputs": [],
   "source": [
    "# Dataframe\n",
    "last_rows_svm_jtjb = JT_JB.groupby(['Year','Game', 'Q']).last().reset_index()\n",
    "last_rows_svm_jtjb = last_rows_svm_jtjb[last_rows_svm_jtjb['Q']=='Q3']\n",
    "\n",
    "svm_jtjb = last_rows_svm_jtjb[['Result', 'Year', 'JT_FG', 'JB_FG']].copy()\n",
    "svm_jtjb['Result'] = np.where(svm_jtjb['Result'] == 'BOS', 1, 0)"
   ]
  },
  {
   "cell_type": "code",
   "execution_count": 23,
   "id": "1b4a641b",
   "metadata": {},
   "outputs": [],
   "source": [
    "# Split\n",
    "SVM_train_jtjb = svm_jtjb[svm_jtjb['Year']!= 2022]\n",
    "SVM_test_jtjb = svm_jtjb[svm_jtjb['Year']== 2022]\n",
    "\n",
    "# Drop\n",
    "X_train_svm_jtjb = SVM_train_jtjb.drop(['Result', 'Year'], axis=1)\n",
    "y_train_svm_jtjb = SVM_train_jtjb['Result']\n",
    "X_test_svm_jtjb = SVM_test_jtjb.drop(['Result', 'Year'], axis=1)\n",
    "y_test_svm_jtjb = SVM_test_jtjb['Result']"
   ]
  },
  {
   "cell_type": "code",
   "execution_count": 24,
   "id": "c95734e2",
   "metadata": {},
   "outputs": [],
   "source": [
    "# Normalize Predictors\n",
    "scaler = MinMaxScaler()\n",
    "X_train_svm_jtjb_norm = pd.DataFrame(scaler.fit_transform(X_train_svm_jtjb),\n",
    "                        columns = X_train_svm_jtjb.columns\n",
    "                        )"
   ]
  },
  {
   "cell_type": "code",
   "execution_count": 25,
   "id": "212b3d62",
   "metadata": {},
   "outputs": [
    {
     "name": "stderr",
     "output_type": "stream",
     "text": [
      "100%|████████████████████████████████████████████████████████████████████████████████████| 3/3 [00:00<00:00, 29.57it/s]"
     ]
    },
    {
     "name": "stdout",
     "output_type": "stream",
     "text": [
      "Best parameters found by during grid search:\n",
      "{'C': 0.85, 'gamma': 'scale', 'kernel': 'rbf'}\n"
     ]
    },
    {
     "name": "stderr",
     "output_type": "stream",
     "text": [
      "\n"
     ]
    }
   ],
   "source": [
    "# Grid\n",
    "param_grid = {\n",
    "    'C': [0.85],\n",
    "    'kernel': ['rbf'],\n",
    "    'gamma': ['scale']\n",
    "}\n",
    "\n",
    "# Model\n",
    "svm_model = SVC()\n",
    "\n",
    "# Grid search\n",
    "grid_search = GridSearchCV(estimator=svm_model, param_grid=param_grid, cv=5, n_jobs=-1)\n",
    "\n",
    "for params in tqdm(param_grid):\n",
    "    grid_search.fit(X_train_svm_jtjb_norm, y_train_svm_jtjb)\n",
    "\n",
    "print(\"Best parameters found by during grid search:\")\n",
    "print(grid_search.best_params_)\n",
    "\n",
    "\n"
   ]
  },
  {
   "cell_type": "markdown",
   "id": "c081ba95",
   "metadata": {},
   "source": [
    "### Testing: Player Metrics"
   ]
  },
  {
   "cell_type": "code",
   "execution_count": 26,
   "id": "40953777",
   "metadata": {},
   "outputs": [
    {
     "name": "stdout",
     "output_type": "stream",
     "text": [
      "Accuracy: 0.6190476190476191\n",
      "Confusion Matrix:\n",
      " [[ 0 40]\n",
      " [ 0 65]]\n",
      "ROC AUC Score: 0.5\n"
     ]
    }
   ],
   "source": [
    "# Best parameters training\n",
    "best_model = SVC(**grid_search.best_params_)\n",
    "best_model.fit(X_train_svm_jtjb, y_train_svm_jtjb)\n",
    "\n",
    "# Normalize testing\n",
    "X_test_svm_jtjb_norm = pd.DataFrame(\n",
    "    scaler.transform(X_test_svm_jtjb),\n",
    "    columns = X_test_svm_jtjb.columns)\n",
    "\n",
    "# Predict\n",
    "y_pred_svm = best_model.predict(X_test_svm_jtjb_norm)\n",
    "\n",
    "# Evaluation\n",
    "accuracy = accuracy_score(y_test_svm_jtjb, y_pred_svm)\n",
    "print(\"Accuracy:\", accuracy)\n",
    "\n",
    "conf_matrix = confusion_matrix(y_test_svm_jtjb, y_pred_svm)\n",
    "print(\"Confusion Matrix:\\n\", conf_matrix)\n",
    "\n",
    "auc_score = roc_auc_score(y_test_svm_jtjb, y_pred_svm)\n",
    "print(\"ROC AUC Score:\", auc_score)"
   ]
  }
 ],
 "metadata": {
  "kernelspec": {
   "display_name": "Python 3 (ipykernel)",
   "language": "python",
   "name": "python3"
  },
  "language_info": {
   "codemirror_mode": {
    "name": "ipython",
    "version": 3
   },
   "file_extension": ".py",
   "mimetype": "text/x-python",
   "name": "python",
   "nbconvert_exporter": "python",
   "pygments_lexer": "ipython3",
   "version": "3.9.13"
  }
 },
 "nbformat": 4,
 "nbformat_minor": 5
}
